{
 "cells": [
  {
   "cell_type": "code",
   "execution_count": 84,
   "metadata": {},
   "outputs": [],
   "source": [
    "import numpy as np"
   ]
  },
  {
   "cell_type": "code",
   "execution_count": 85,
   "metadata": {},
   "outputs": [],
   "source": [
    "countries = np.array(['Algeria','Angola','Argentina','Australia','Austria','Bahamas','Bangladesh','Belarus',\n",
    "                      'Belgium','Bhutan','Brazil','Bulgaria','Cambodia','Cameroon','Chile','China','Colombia',\n",
    "                      'Cyprus','Denmark','El Salvador','Estonia','Ethiopia','Fiji','Finland','France','Georgia',\n",
    "                      'Ghana','Grenada','Guinea','Haiti','Honduras','Hungary','India','Indonesia','Ireland','Italy',\n",
    "                      'Japan','Kenya', 'South Korea','Liberia','Malaysia','Mexico', 'Morocco','Nepal','New Zealand',\n",
    "                      'Norway','Pakistan', 'Peru','Qatar','Russia','Singapore','South Africa','Spain','Sweden',\n",
    "                      'Switzerland','Thailand', 'United Arab Emirates','United Kingdom','United States','Uruguay',\n",
    "                      'Venezuela','Vietnam','Zimbabwe'])\n",
    "\n",
    "gdp_value = np.array([2255.225482,629.9553062,11601.63022,25306.82494,27266.40335,19466.99052,588.3691778,2890.345675,\n",
    "                      24733.62696,1445.760002,4803.398244,2618.876037,590.4521124,665.7982328,7122.938458,2639.54156,\n",
    "                      3362.4656,15378.16704,30860.12808,2579.115607,6525.541272,229.6769525,2242.689259,27570.4852,\n",
    "                      23016.84778,1334.646773,402.6953275,6047.200797,394.1156638,385.5793827,1414.072488,5745.981529,\n",
    "                      837.7464011,1206.991065,27715.52837,18937.24998,39578.07441,478.2194906,16684.21278,279.2204061,\n",
    "                      5345.213415,6288.25324,1908.304416,274.8728621,14646.42094,40034.85063,672.1547506,3359.517402,\n",
    "                      36152.66676,3054.727742,33529.83052,3825.093781,15428.32098,33630.24604,39170.41371,2699.123242,\n",
    "                      21058.43643,28272.40661,37691.02733,9581.05659,5671.912202,757.4009286,347.7456605])\n"
   ]
  },
  {
   "cell_type": "code",
   "execution_count": 86,
   "metadata": {},
   "outputs": [
    {
     "name": "stdout",
     "output_type": "stream",
     "text": [
      "Norway\n",
      "45\n"
     ]
    }
   ],
   "source": [
    "highest_gdp = gdp_value.argmax()\n",
    "\n",
    "country_with_highest_gdp = countries[highest_gdp]\n",
    "print(country_with_highest_gdp)\n",
    "print(highest_gdp)"
   ]
  },
  {
   "cell_type": "code",
   "execution_count": 87,
   "metadata": {},
   "outputs": [
    {
     "name": "stdout",
     "output_type": "stream",
     "text": [
      "Ethiopia\n",
      "21\n"
     ]
    }
   ],
   "source": [
    "lowest_gdp = gdp_value.argmin()\n",
    "\n",
    "country_with_lowest_gdp = countries[lowest_gdp]\n",
    "print(country_with_lowest_gdp)\n",
    "print(lowest_gdp)"
   ]
  },
  {
   "cell_type": "code",
   "execution_count": 88,
   "metadata": {},
   "outputs": [
    {
     "name": "stdout",
     "output_type": "stream",
     "text": [
      "Evualiating country is Algeria\n",
      "Evualiating country is Angola\n",
      "Evualiating country is Argentina\n",
      "Evualiating country is Australia\n",
      "Evualiating country is Austria\n",
      "Evualiating country is Bahamas\n",
      "Evualiating country is Bangladesh\n",
      "Evualiating country is Belarus\n",
      "Evualiating country is Belgium\n",
      "Evualiating country is Bhutan\n",
      "Evualiating country is Brazil\n",
      "Evualiating country is Bulgaria\n",
      "Evualiating country is Cambodia\n",
      "Evualiating country is Cameroon\n",
      "Evualiating country is Chile\n",
      "Evualiating country is China\n",
      "Evualiating country is Colombia\n",
      "Evualiating country is Cyprus\n",
      "Evualiating country is Denmark\n",
      "Evualiating country is El Salvador\n",
      "Evualiating country is Estonia\n",
      "Evualiating country is Ethiopia\n",
      "Evualiating country is Fiji\n",
      "Evualiating country is Finland\n",
      "Evualiating country is France\n",
      "Evualiating country is Georgia\n",
      "Evualiating country is Ghana\n",
      "Evualiating country is Grenada\n",
      "Evualiating country is Guinea\n",
      "Evualiating country is Haiti\n",
      "Evualiating country is Honduras\n",
      "Evualiating country is Hungary\n",
      "Evualiating country is India\n",
      "Evualiating country is Indonesia\n",
      "Evualiating country is Ireland\n",
      "Evualiating country is Italy\n",
      "Evualiating country is Japan\n",
      "Evualiating country is Kenya\n",
      "Evualiating country is South Korea\n",
      "Evualiating country is Liberia\n",
      "Evualiating country is Malaysia\n",
      "Evualiating country is Mexico\n",
      "Evualiating country is Morocco\n",
      "Evualiating country is Nepal\n",
      "Evualiating country is New Zealand\n",
      "Evualiating country is Norway\n",
      "Evualiating country is Pakistan\n",
      "Evualiating country is Peru\n",
      "Evualiating country is Qatar\n",
      "Evualiating country is Russia\n",
      "Evualiating country is Singapore\n",
      "Evualiating country is South Africa\n",
      "Evualiating country is Spain\n",
      "Evualiating country is Sweden\n",
      "Evualiating country is Switzerland\n",
      "Evualiating country is Thailand\n",
      "Evualiating country is United Arab Emirates\n",
      "Evualiating country is United Kingdom\n",
      "Evualiating country is United States\n",
      "Evualiating country is Uruguay\n",
      "Evualiating country is Venezuela\n",
      "Evualiating country is Vietnam\n",
      "Evualiating country is Zimbabwe\n"
     ]
    }
   ],
   "source": [
    "for i in countries:\n",
    "    print(\"Evualiating country is\", i)\n",
    "    "
   ]
  },
  {
   "cell_type": "code",
   "execution_count": 92,
   "metadata": {},
   "outputs": [
    {
     "name": "stdout",
     "output_type": "stream",
     "text": [
      "country Algeria per capita is 2255.225482\n",
      "country Angola per capita is 629.9553062\n",
      "country Argentina per capita is 11601.63022\n",
      "country Australia per capita is 25306.82494\n",
      "country Austria per capita is 27266.40335\n",
      "country Bahamas per capita is 19466.99052\n",
      "country Bangladesh per capita is 588.3691778\n",
      "country Belarus per capita is 2890.345675\n",
      "country Belgium per capita is 24733.62696\n",
      "country Bhutan per capita is 1445.760002\n",
      "country Brazil per capita is 4803.398244\n",
      "country Bulgaria per capita is 2618.876037\n",
      "country Cambodia per capita is 590.4521124\n",
      "country Cameroon per capita is 665.7982328\n",
      "country Chile per capita is 7122.938458\n",
      "country China per capita is 2639.54156\n",
      "country Colombia per capita is 3362.4656\n",
      "country Cyprus per capita is 15378.16704\n",
      "country Denmark per capita is 30860.12808\n",
      "country El Salvador per capita is 2579.115607\n",
      "country Estonia per capita is 6525.541272\n",
      "country Ethiopia per capita is 229.6769525\n",
      "country Fiji per capita is 2242.689259\n",
      "country Finland per capita is 27570.4852\n",
      "country France per capita is 23016.84778\n",
      "country Georgia per capita is 1334.646773\n",
      "country Ghana per capita is 402.6953275\n",
      "country Grenada per capita is 6047.200797\n",
      "country Guinea per capita is 394.1156638\n",
      "country Haiti per capita is 385.5793827\n",
      "country Honduras per capita is 1414.072488\n",
      "country Hungary per capita is 5745.981529\n",
      "country India per capita is 837.7464011\n",
      "country Indonesia per capita is 1206.991065\n",
      "country Ireland per capita is 27715.52837\n",
      "country Italy per capita is 18937.24998\n",
      "country Japan per capita is 39578.07441\n",
      "country Kenya per capita is 478.2194906\n",
      "country South Korea per capita is 16684.21278\n",
      "country Liberia per capita is 279.2204061\n",
      "country Malaysia per capita is 5345.213415\n",
      "country Mexico per capita is 6288.25324\n",
      "country Morocco per capita is 1908.304416\n",
      "country Nepal per capita is 274.8728621\n",
      "country New Zealand per capita is 14646.42094\n",
      "country Norway per capita is 40034.85063\n",
      "country Pakistan per capita is 672.1547506\n",
      "country Peru per capita is 3359.517402\n",
      "country Qatar per capita is 36152.66676\n",
      "country Russia per capita is 3054.727742\n",
      "country Singapore per capita is 33529.83052\n",
      "country South Africa per capita is 3825.093781\n",
      "country Spain per capita is 15428.32098\n",
      "country Sweden per capita is 33630.24604\n",
      "country Switzerland per capita is 39170.41371\n",
      "country Thailand per capita is 2699.123242\n",
      "country United Arab Emirates per capita is 21058.43643\n",
      "country United Kingdom per capita is 28272.40661\n",
      "country United States per capita is 37691.02733\n",
      "country Uruguay per capita is 9581.05659\n",
      "country Venezuela per capita is 5671.912202\n",
      "country Vietnam per capita is 757.4009286\n",
      "country Zimbabwe per capita is 347.7456605\n"
     ]
    }
   ],
   "source": [
    "# print(len(countries))\n",
    "\n",
    "for i in range(len(countries)):\n",
    "    country = countries[i]\n",
    "    gdp = gdp_value[i]\n",
    "    print('country',country, 'per capita is',gdp )\n",
    "    "
   ]
  },
  {
   "cell_type": "code",
   "execution_count": 96,
   "metadata": {},
   "outputs": [
    {
     "name": "stdout",
     "output_type": "stream",
     "text": [
      "40034.85063\n",
      "229.6769525\n",
      "11289.409271639683\n",
      "12743.828910617945\n",
      "711232.7841133\n"
     ]
    }
   ],
   "source": [
    "print(gdp_value.max())\n",
    "print(gdp_value.min())\n",
    "print(gdp_value.mean())\n",
    "print(gdp_value.std())\n",
    "print(gdp_value.sum())"
   ]
  },
  {
   "cell_type": "code",
   "execution_count": null,
   "metadata": {},
   "outputs": [],
   "source": []
  }
 ],
 "metadata": {
  "kernelspec": {
   "display_name": "Python 3",
   "language": "python",
   "name": "python3"
  },
  "language_info": {
   "codemirror_mode": {
    "name": "ipython",
    "version": 3
   },
   "file_extension": ".py",
   "mimetype": "text/x-python",
   "name": "python",
   "nbconvert_exporter": "python",
   "pygments_lexer": "ipython3",
   "version": "3.7.6"
  }
 },
 "nbformat": 4,
 "nbformat_minor": 4
}
